{
 "cells": [
  {
   "cell_type": "markdown",
   "metadata": {},
   "source": [
    "## Ejercicio 1: Creación de diccionarios de Python"
   ]
  },
  {
   "cell_type": "code",
   "execution_count": 2,
   "metadata": {},
   "outputs": [
    {
     "name": "stdout",
     "output_type": "stream",
     "text": [
      "In planet Mars exists 2 moons\n"
     ]
    }
   ],
   "source": [
    "planet = {\n",
    "    'name':  'Mars',\n",
    "    'moons': 2\n",
    "}\n",
    "print(f'In planet {planet[\"name\"]} exists {planet[\"moons\"]} moons')"
   ]
  },
  {
   "cell_type": "code",
   "execution_count": 4,
   "metadata": {},
   "outputs": [
    {
     "name": "stdout",
     "output_type": "stream",
     "text": [
      "Planet Mars has a polar circumference of 6752 km\n"
     ]
    }
   ],
   "source": [
    "planet['circumference'] = {\n",
    "    'polar': 6752,\n",
    "    'equatorial': 6792\n",
    "}\n",
    "print(f'Planet {planet[\"name\"]} has a polar circumference of {planet[\"circumference\"][\"polar\"]} km')"
   ]
  },
  {
   "cell_type": "markdown",
   "metadata": {},
   "source": [
    "## Ejercicio 2: Programación dinámica con diccionarios"
   ]
  },
  {
   "cell_type": "code",
   "execution_count": 6,
   "metadata": {},
   "outputs": [],
   "source": [
    "planet_moons = {\n",
    "    'mercury': 0,\n",
    "    'venus': 0,\n",
    "    'earth': 1,\n",
    "    'mars': 2,\n",
    "    'jupiter': 79,\n",
    "    'saturn': 82,\n",
    "    'uranus': 27,\n",
    "    'neptune': 14,\n",
    "    'pluto': 5,\n",
    "    'haumea': 2,\n",
    "    'makemake': 1,\n",
    "    'eris': 1\n",
    "}"
   ]
  },
  {
   "cell_type": "code",
   "execution_count": 7,
   "metadata": {},
   "outputs": [
    {
     "name": "stdout",
     "output_type": "stream",
     "text": [
      "Total moons: 214\n"
     ]
    }
   ],
   "source": [
    "moons = planet_moons.values()\n",
    "planets = len(planet_moons.keys())\n",
    "\n",
    "total_moons = 0\n",
    "for moon in moons:\n",
    "    total_moons += moon\n",
    "\n",
    "print('Total moons: ' + str(total_moons))"
   ]
  }
 ],
 "metadata": {
  "interpreter": {
   "hash": "bb0cbac54d6cdbae60be2e6d83bf46fb7f752717ca2d60c579508701c83844df"
  },
  "kernelspec": {
   "display_name": "Python 3.10.2 64-bit",
   "language": "python",
   "name": "python3"
  },
  "language_info": {
   "codemirror_mode": {
    "name": "ipython",
    "version": 3
   },
   "file_extension": ".py",
   "mimetype": "text/x-python",
   "name": "python",
   "nbconvert_exporter": "python",
   "pygments_lexer": "ipython3",
   "version": "3.10.2"
  },
  "orig_nbformat": 4
 },
 "nbformat": 4,
 "nbformat_minor": 2
}
