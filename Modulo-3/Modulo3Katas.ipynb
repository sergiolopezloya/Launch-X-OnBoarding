{
 "cells": [
  {
   "cell_type": "markdown",
   "metadata": {},
   "source": [
    "## Problema 1"
   ]
  },
  {
   "cell_type": "code",
   "execution_count": 1,
   "metadata": {},
   "outputs": [
    {
     "name": "stdout",
     "output_type": "stream",
     "text": [
      "Un asteroide se aproxima a la tierra, cuidado!\n"
     ]
    }
   ],
   "source": [
    "asteroide = 49\n",
    "if asteroide > 25:\n",
    "    print('Un asteroide se aproxima a la tierra, cuidado!')\n",
    "else:\n",
    "    print('Todo despejado')"
   ]
  },
  {
   "cell_type": "markdown",
   "metadata": {},
   "source": [
    "## Problema 2"
   ]
  },
  {
   "cell_type": "code",
   "execution_count": 4,
   "metadata": {},
   "outputs": [
    {
     "name": "stdout",
     "output_type": "stream",
     "text": [
      "Ciero despejado\n"
     ]
    }
   ],
   "source": [
    "asteroide = 19\n",
    "if asteroide > 20:\n",
    "    print('Mira la luz que se ve en el cielo')\n",
    "elif asteroide == 20:\n",
    "    print('Mira la luz que se ve en el cielo muy cerca')\n",
    "else:\n",
    "    print('Cielo despejado')"
   ]
  },
  {
   "cell_type": "markdown",
   "metadata": {},
   "source": [
    "## Problema 3"
   ]
  },
  {
   "cell_type": "code",
   "execution_count": 6,
   "metadata": {},
   "outputs": [
    {
     "name": "stdout",
     "output_type": "stream",
     "text": [
      "Mira la luz que se ve en el cielo\n"
     ]
    }
   ],
   "source": [
    "velocidad = 25\n",
    "tamano = 40\n",
    "if velocidad > 25 and tamano > 25 and tamano < 1000:\n",
    "    print('Hay un asteroide muy cercano a la Tierra')\n",
    "elif velocidad >= 20:\n",
    "    print('Mira la luz que se ve en el cielo')\n",
    "elif tamano < 25:\n",
    "    print('Cielo despejado')\n",
    "else:\n",
    "    print('Cielo despejado')"
   ]
  }
 ],
 "metadata": {
  "interpreter": {
   "hash": "bb0cbac54d6cdbae60be2e6d83bf46fb7f752717ca2d60c579508701c83844df"
  },
  "kernelspec": {
   "display_name": "Python 3.10.2 64-bit",
   "language": "python",
   "name": "python3"
  },
  "language_info": {
   "codemirror_mode": {
    "name": "ipython",
    "version": 3
   },
   "file_extension": ".py",
   "mimetype": "text/x-python",
   "name": "python",
   "nbconvert_exporter": "python",
   "pygments_lexer": "ipython3",
   "version": "3.10.2"
  },
  "orig_nbformat": 4
 },
 "nbformat": 4,
 "nbformat_minor": 2
}
