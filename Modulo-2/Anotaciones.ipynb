{
 "cells": [
  {
   "cell_type": "markdown",
   "metadata": {},
   "source": [
    "## Punto importante\n",
    "\n",
    "Al ejecutar \"python3 -m venv env\" se creó un sistema de archivos diferente al del material del curso.\n",
    "Buscando en Google sobre cómo ejecutar el entorno virtual de esta estructura, encontré lo siguiente:\n",
    "\n",
    ">env\\Scripts\\activate"
   ]
  }
 ],
 "metadata": {
  "interpreter": {
   "hash": "bb0cbac54d6cdbae60be2e6d83bf46fb7f752717ca2d60c579508701c83844df"
  },
  "kernelspec": {
   "display_name": "Python 3.10.2 64-bit",
   "language": "python",
   "name": "python3"
  },
  "language_info": {
   "codemirror_mode": {
    "name": "ipython",
    "version": 3
   },
   "file_extension": ".py",
   "mimetype": "text/x-python",
   "name": "python",
   "nbconvert_exporter": "python",
   "pygments_lexer": "ipython3",
   "version": "3.10.2"
  },
  "orig_nbformat": 4
 },
 "nbformat": 4,
 "nbformat_minor": 2
}
