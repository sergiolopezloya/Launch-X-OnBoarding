{
 "cells": [
  {
   "cell_type": "markdown",
   "metadata": {},
   "source": [
    "## Ejercicio1 - Utilizar operadores aritméticos"
   ]
  },
  {
   "cell_type": "code",
   "execution_count": 5,
   "metadata": {},
   "outputs": [
    {
     "name": "stdout",
     "output_type": "stream",
     "text": [
      "628949330 km\n",
      "390577533.93 miles\n"
     ]
    }
   ],
   "source": [
    "earth = 149597870\n",
    "jupiter = 778547200\n",
    "\n",
    "between_planets_km = jupiter - earth\n",
    "print(str(between_planets_km) + \" km\")\n",
    "\n",
    "between_planets_ml = between_planets_km * 0.621\n",
    "print(str(between_planets_ml) + \" miles\")"
   ]
  },
  {
   "cell_type": "markdown",
   "metadata": {},
   "source": [
    "## Ejercicio 2: convierte cadenas en números y usa valores absolutos"
   ]
  },
  {
   "cell_type": "code",
   "execution_count": 14,
   "metadata": {},
   "outputs": [
    {
     "name": "stdout",
     "output_type": "stream",
     "text": [
      "35 km\n",
      "21.735 miles\n"
     ]
    }
   ],
   "source": [
    "distance1 = input(\"Distancia del planeta 1 desde el sol:\")\n",
    "distance2 = input(\"Distancia del planeta 2 desde el sol:\")\n",
    "distance1 = int(distance1)\n",
    "distance2 = int(distance2)\n",
    "\n",
    "between_planets_km = abs(distance2 - distance1)\n",
    "print(str(between_planets_km) + \" km\")\n",
    "\n",
    "between_planets_ml = between_planets_km * 0.621\n",
    "print(str(between_planets_ml) + \" miles\")"
   ]
  }
 ],
 "metadata": {
  "interpreter": {
   "hash": "bb0cbac54d6cdbae60be2e6d83bf46fb7f752717ca2d60c579508701c83844df"
  },
  "kernelspec": {
   "display_name": "Python 3.10.2 64-bit",
   "language": "python",
   "name": "python3"
  },
  "language_info": {
   "codemirror_mode": {
    "name": "ipython",
    "version": 3
   },
   "file_extension": ".py",
   "mimetype": "text/x-python",
   "name": "python",
   "nbconvert_exporter": "python",
   "pygments_lexer": "ipython3",
   "version": "3.10.2"
  },
  "orig_nbformat": 4
 },
 "nbformat": 4,
 "nbformat_minor": 2
}
